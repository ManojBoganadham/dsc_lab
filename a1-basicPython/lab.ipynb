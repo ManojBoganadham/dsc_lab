{
 "cells": [
  {
   "cell_type": "markdown",
   "metadata": {},
   "source": [
    "# Data Science Lab Assignment-1\n",
    "\n",
    "1. Write a python program to define an integer value and print the values."
   ]
  },
  {
   "cell_type": "code",
   "execution_count": 19,
   "metadata": {},
   "outputs": [
    {
     "name": "stdout",
     "output_type": "stream",
     "text": [
      "197121\n"
     ]
    }
   ],
   "source": [
    "# define an integer and print it\n",
    "a = 197121\n",
    "# print the integer\n",
    "print(a)"
   ]
  },
  {
   "cell_type": "markdown",
   "metadata": {},
   "source": [
    "2. Write a Python program to find if addition of two integer numbers taken as input from the user"
   ]
  },
  {
   "cell_type": "code",
   "execution_count": 21,
   "metadata": {},
   "outputs": [
    {
     "name": "stdout",
     "output_type": "stream",
     "text": [
      "Sum of 2 and 3 is 5\n"
     ]
    }
   ],
   "source": [
    "# Write a Python program to find if addition of two integer numbers taken as input from the user\n",
    "a = input(\"Enter first number: \")\n",
    "b = input(\"Enter second number: \")\n",
    "# convert string to integer\n",
    "print(\"Sum of {0} and {1} is {2}\".format(a,b,int(a) + int(b)))"
   ]
  },
  {
   "cell_type": "markdown",
   "metadata": {},
   "source": [
    "3. Write a python program to check the given year is a leap year or not"
   ]
  },
  {
   "cell_type": "code",
   "execution_count": 7,
   "metadata": {},
   "outputs": [
    {
     "name": "stdout",
     "output_type": "stream",
     "text": [
      "2000 is a leap year\n"
     ]
    }
   ],
   "source": [
    "# Write a python program to check the given year is a leap year or not\n",
    "year = int(input(\"Enter a year: \"))\n",
    "\n",
    "# leap year is divisible by 4 and not by 100\n",
    "if (year % 400 == 0) and (year % 100 == 0):\n",
    "    print(\"{0} is a leap year\".format(year))\n",
    "elif (year % 4 ==0) and (year % 100 != 0):\n",
    "    print(\"{0} - leap year\".format(year))\n",
    "else:\n",
    "    print(\"{0} - not a leap year\".format(year))"
   ]
  },
  {
   "cell_type": "markdown",
   "metadata": {},
   "source": [
    "4. Write a Python program to swap two numbers"
   ]
  },
  {
   "cell_type": "code",
   "execution_count": 11,
   "metadata": {},
   "outputs": [
    {
     "name": "stdout",
     "output_type": "stream",
     "text": [
      "a = 2, b = 3\n",
      "After swapping\n",
      "a = 3, b = 2\n"
     ]
    }
   ],
   "source": [
    "# Write a Python program to swap two numbers\n",
    "a = int(input(\"Enter first number: \"))\n",
    "b = int(input(\"Enter second number: \"))\n",
    "# before swapping\n",
    "print(\"a = {0}, b = {1}\".format(a,b))\n",
    "\n",
    "c = a\n",
    "a = b\n",
    "b = c\n",
    "# after swapping\n",
    "print(\"After swapping\")\n",
    "print(\"a = {0}, b = {1}\".format(a,b))\n"
   ]
  },
  {
   "cell_type": "markdown",
   "metadata": {},
   "source": [
    "5. Write a Python program to swap two numbers without using third variable "
   ]
  },
  {
   "cell_type": "code",
   "execution_count": 12,
   "metadata": {},
   "outputs": [
    {
     "name": "stdout",
     "output_type": "stream",
     "text": [
      "a = 2, b = 3\n",
      "After swapping\n",
      "a = 3, b = 2\n"
     ]
    }
   ],
   "source": [
    "# Write a Python program to swap two numbers without using third variable \n",
    "a = int(input(\"Enter first number: \"))\n",
    "b = int(input(\"Enter second number: \"))\n",
    "\n",
    "# before swapping\n",
    "print(\"a = {0}, b = {1}\".format(a,b))\n",
    "\n",
    "b,a = a,b\n",
    "# after swapping\n",
    "print(\"After swapping\")\n",
    "print(\"a = {0}, b = {1}\".format(a,b))"
   ]
  },
  {
   "cell_type": "markdown",
   "metadata": {},
   "source": [
    "6. Write a python program to find the ASCII value of the given character"
   ]
  },
  {
   "cell_type": "code",
   "execution_count": 13,
   "metadata": {},
   "outputs": [
    {
     "name": "stdout",
     "output_type": "stream",
     "text": [
      "ASCII value of a is 97\n"
     ]
    }
   ],
   "source": [
    "# Write a python program to find the ASCII value of the given character\n",
    "char = input(\"Enter a character: \")\n",
    "asciiValue = ord(char)\n",
    "print(\"ASCII value of {0} is {1}\".format(char,asciiValue))"
   ]
  },
  {
   "cell_type": "markdown",
   "metadata": {},
   "source": [
    "7. Write a Python program to calculate the square of a number"
   ]
  },
  {
   "cell_type": "code",
   "execution_count": 14,
   "metadata": {},
   "outputs": [
    {
     "name": "stdout",
     "output_type": "stream",
     "text": [
      "Square of 2 is 4\n"
     ]
    }
   ],
   "source": [
    "# Write a Python program to calculate the square of a number\n",
    "num = int(input(\"Enter a number: \"))\n",
    "# using ** operator to find the square\n",
    "print(\"Square of {0} is {1}\".format(num,num**2))"
   ]
  },
  {
   "cell_type": "markdown",
   "metadata": {},
   "source": [
    "8. Write a python program to generate a random number between 0 to 15"
   ]
  },
  {
   "cell_type": "code",
   "execution_count": 18,
   "metadata": {},
   "outputs": [
    {
     "name": "stdout",
     "output_type": "stream",
     "text": [
      "5\n"
     ]
    }
   ],
   "source": [
    "\n",
    "# Write a python program to generate a random number between 0 to 15\n",
    "# random number is generated using random.randint(a,b)\n",
    "# so that module is being imported\n",
    "import random\n",
    "print(random.randint(0,15))"
   ]
  },
  {
   "cell_type": "markdown",
   "metadata": {},
   "source": [
    "9. Take a list of 10 numbers of your choice. Write a python program to print the following:\n",
    "- Print all the elements after 5th index"
   ]
  },
  {
   "cell_type": "code",
   "execution_count": 22,
   "metadata": {},
   "outputs": [
    {
     "name": "stdout",
     "output_type": "stream",
     "text": [
      "[6, 7, 8, 9, 10]\n"
     ]
    }
   ],
   "source": [
    "# create a list\n",
    "b = [1, 2, 3, 4, 5, 6, 7, 8 ,9, 10]\n",
    "# print all elements after 5th index\n",
    "print(b[5:])"
   ]
  },
  {
   "cell_type": "markdown",
   "metadata": {},
   "source": [
    "- Print all the elements before 6th index"
   ]
  },
  {
   "cell_type": "code",
   "execution_count": 2,
   "metadata": {},
   "outputs": [
    {
     "name": "stdout",
     "output_type": "stream",
     "text": [
      "[1, 2, 3, 4, 5, 6]\n"
     ]
    }
   ],
   "source": [
    "# print all the elements before 6th index\n",
    "print(b[:6])"
   ]
  },
  {
   "cell_type": "markdown",
   "metadata": {},
   "source": [
    "- Print all the elements between 2nd and 8th indices"
   ]
  },
  {
   "cell_type": "code",
   "execution_count": 4,
   "metadata": {},
   "outputs": [
    {
     "name": "stdout",
     "output_type": "stream",
     "text": [
      "[3, 4, 5, 6, 7, 8]\n"
     ]
    }
   ],
   "source": [
    "# Print all the elements between 2nd and 8th indices\n",
    "print(b[2:8])"
   ]
  },
  {
   "cell_type": "markdown",
   "metadata": {},
   "source": [
    "10. Write a Python program to find the area of the triangle"
   ]
  },
  {
   "cell_type": "code",
   "execution_count": null,
   "metadata": {},
   "outputs": [],
   "source": [
    "# Write a Python program to find the area of the triangle\n",
    "base = int(input(\"Enter base: \"))\n",
    "height = int(input(\"Enter height: \"))\n",
    "# area = 1/2 * base * height\n",
    "area = 0.5 * base * height\n",
    "# print the area\n",
    "print(\"Area of triangle is {0}\".format(area))"
   ]
  }
 ],
 "metadata": {
  "interpreter": {
   "hash": "916dbcbb3f70747c44a77c7bcd40155683ae19c65e1c03b4aa3499c5328201f1"
  },
  "kernelspec": {
   "display_name": "Python 3.8.10 64-bit",
   "language": "python",
   "name": "python3"
  },
  "language_info": {
   "codemirror_mode": {
    "name": "ipython",
    "version": 3
   },
   "file_extension": ".py",
   "mimetype": "text/x-python",
   "name": "python",
   "nbconvert_exporter": "python",
   "pygments_lexer": "ipython3",
   "version": "3.8.10"
  },
  "orig_nbformat": 4
 },
 "nbformat": 4,
 "nbformat_minor": 2
}
