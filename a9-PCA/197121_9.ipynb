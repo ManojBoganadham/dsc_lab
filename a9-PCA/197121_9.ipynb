{
  "nbformat": 4,
  "nbformat_minor": 0,
  "metadata": {
    "colab": {
      "name": "197121_9.ipynb",
      "provenance": [],
      "collapsed_sections": []
    },
    "kernelspec": {
      "name": "python3",
      "display_name": "Python 3"
    },
    "language_info": {
      "name": "python"
    }
  },
  "cells": [
    {
      "cell_type": "markdown",
      "source": [
        "## Data Science Lab Assignment 9\n",
        "#### Name : Boganadham Venkata Sai Manoj\n",
        "#### Section : A\n",
        "#### Roll no : 197121\n",
        "----------------------------------------------------------------------------------------\n",
        "## **1. Implement the Principal Component Analysis**"
      ],
      "metadata": {
        "id": "avA9LNS6EsBm"
      }
    },
    {
      "cell_type": "markdown",
      "source": [
        "First, import the required modules and dataset into the notebook"
      ],
      "metadata": {
        "id": "G9iJ2ZnRFJ48"
      }
    },
    {
      "cell_type": "code",
      "execution_count": 1,
      "metadata": {
        "colab": {
          "base_uri": "https://localhost:8080/",
          "height": 224
        },
        "id": "qQHbnZGhEAoA",
        "outputId": "688f1fde-8a2d-4a4f-9412-75189a6bf654"
      },
      "outputs": [
        {
          "output_type": "stream",
          "name": "stdout",
          "text": [
            "Mounted at /content/drive/\n"
          ]
        },
        {
          "output_type": "execute_result",
          "data": {
            "text/plain": [
              "     0    1    2    3            4\n",
              "0  5.1  3.5  1.4  0.2  Iris-setosa\n",
              "1  4.9  3.0  1.4  0.2  Iris-setosa\n",
              "2  4.7  3.2  1.3  0.2  Iris-setosa\n",
              "3  4.6  3.1  1.5  0.2  Iris-setosa\n",
              "4  5.0  3.6  1.4  0.2  Iris-setosa"
            ],
            "text/html": [
              "\n",
              "  <div id=\"df-9105c384-f6e7-4bcf-ac8d-47c452c9f914\">\n",
              "    <div class=\"colab-df-container\">\n",
              "      <div>\n",
              "<style scoped>\n",
              "    .dataframe tbody tr th:only-of-type {\n",
              "        vertical-align: middle;\n",
              "    }\n",
              "\n",
              "    .dataframe tbody tr th {\n",
              "        vertical-align: top;\n",
              "    }\n",
              "\n",
              "    .dataframe thead th {\n",
              "        text-align: right;\n",
              "    }\n",
              "</style>\n",
              "<table border=\"1\" class=\"dataframe\">\n",
              "  <thead>\n",
              "    <tr style=\"text-align: right;\">\n",
              "      <th></th>\n",
              "      <th>0</th>\n",
              "      <th>1</th>\n",
              "      <th>2</th>\n",
              "      <th>3</th>\n",
              "      <th>4</th>\n",
              "    </tr>\n",
              "  </thead>\n",
              "  <tbody>\n",
              "    <tr>\n",
              "      <th>0</th>\n",
              "      <td>5.1</td>\n",
              "      <td>3.5</td>\n",
              "      <td>1.4</td>\n",
              "      <td>0.2</td>\n",
              "      <td>Iris-setosa</td>\n",
              "    </tr>\n",
              "    <tr>\n",
              "      <th>1</th>\n",
              "      <td>4.9</td>\n",
              "      <td>3.0</td>\n",
              "      <td>1.4</td>\n",
              "      <td>0.2</td>\n",
              "      <td>Iris-setosa</td>\n",
              "    </tr>\n",
              "    <tr>\n",
              "      <th>2</th>\n",
              "      <td>4.7</td>\n",
              "      <td>3.2</td>\n",
              "      <td>1.3</td>\n",
              "      <td>0.2</td>\n",
              "      <td>Iris-setosa</td>\n",
              "    </tr>\n",
              "    <tr>\n",
              "      <th>3</th>\n",
              "      <td>4.6</td>\n",
              "      <td>3.1</td>\n",
              "      <td>1.5</td>\n",
              "      <td>0.2</td>\n",
              "      <td>Iris-setosa</td>\n",
              "    </tr>\n",
              "    <tr>\n",
              "      <th>4</th>\n",
              "      <td>5.0</td>\n",
              "      <td>3.6</td>\n",
              "      <td>1.4</td>\n",
              "      <td>0.2</td>\n",
              "      <td>Iris-setosa</td>\n",
              "    </tr>\n",
              "  </tbody>\n",
              "</table>\n",
              "</div>\n",
              "      <button class=\"colab-df-convert\" onclick=\"convertToInteractive('df-9105c384-f6e7-4bcf-ac8d-47c452c9f914')\"\n",
              "              title=\"Convert this dataframe to an interactive table.\"\n",
              "              style=\"display:none;\">\n",
              "        \n",
              "  <svg xmlns=\"http://www.w3.org/2000/svg\" height=\"24px\"viewBox=\"0 0 24 24\"\n",
              "       width=\"24px\">\n",
              "    <path d=\"M0 0h24v24H0V0z\" fill=\"none\"/>\n",
              "    <path d=\"M18.56 5.44l.94 2.06.94-2.06 2.06-.94-2.06-.94-.94-2.06-.94 2.06-2.06.94zm-11 1L8.5 8.5l.94-2.06 2.06-.94-2.06-.94L8.5 2.5l-.94 2.06-2.06.94zm10 10l.94 2.06.94-2.06 2.06-.94-2.06-.94-.94-2.06-.94 2.06-2.06.94z\"/><path d=\"M17.41 7.96l-1.37-1.37c-.4-.4-.92-.59-1.43-.59-.52 0-1.04.2-1.43.59L10.3 9.45l-7.72 7.72c-.78.78-.78 2.05 0 2.83L4 21.41c.39.39.9.59 1.41.59.51 0 1.02-.2 1.41-.59l7.78-7.78 2.81-2.81c.8-.78.8-2.07 0-2.86zM5.41 20L4 18.59l7.72-7.72 1.47 1.35L5.41 20z\"/>\n",
              "  </svg>\n",
              "      </button>\n",
              "      \n",
              "  <style>\n",
              "    .colab-df-container {\n",
              "      display:flex;\n",
              "      flex-wrap:wrap;\n",
              "      gap: 12px;\n",
              "    }\n",
              "\n",
              "    .colab-df-convert {\n",
              "      background-color: #E8F0FE;\n",
              "      border: none;\n",
              "      border-radius: 50%;\n",
              "      cursor: pointer;\n",
              "      display: none;\n",
              "      fill: #1967D2;\n",
              "      height: 32px;\n",
              "      padding: 0 0 0 0;\n",
              "      width: 32px;\n",
              "    }\n",
              "\n",
              "    .colab-df-convert:hover {\n",
              "      background-color: #E2EBFA;\n",
              "      box-shadow: 0px 1px 2px rgba(60, 64, 67, 0.3), 0px 1px 3px 1px rgba(60, 64, 67, 0.15);\n",
              "      fill: #174EA6;\n",
              "    }\n",
              "\n",
              "    [theme=dark] .colab-df-convert {\n",
              "      background-color: #3B4455;\n",
              "      fill: #D2E3FC;\n",
              "    }\n",
              "\n",
              "    [theme=dark] .colab-df-convert:hover {\n",
              "      background-color: #434B5C;\n",
              "      box-shadow: 0px 1px 3px 1px rgba(0, 0, 0, 0.15);\n",
              "      filter: drop-shadow(0px 1px 2px rgba(0, 0, 0, 0.3));\n",
              "      fill: #FFFFFF;\n",
              "    }\n",
              "  </style>\n",
              "\n",
              "      <script>\n",
              "        const buttonEl =\n",
              "          document.querySelector('#df-9105c384-f6e7-4bcf-ac8d-47c452c9f914 button.colab-df-convert');\n",
              "        buttonEl.style.display =\n",
              "          google.colab.kernel.accessAllowed ? 'block' : 'none';\n",
              "\n",
              "        async function convertToInteractive(key) {\n",
              "          const element = document.querySelector('#df-9105c384-f6e7-4bcf-ac8d-47c452c9f914');\n",
              "          const dataTable =\n",
              "            await google.colab.kernel.invokeFunction('convertToInteractive',\n",
              "                                                     [key], {});\n",
              "          if (!dataTable) return;\n",
              "\n",
              "          const docLinkHtml = 'Like what you see? Visit the ' +\n",
              "            '<a target=\"_blank\" href=https://colab.research.google.com/notebooks/data_table.ipynb>data table notebook</a>'\n",
              "            + ' to learn more about interactive tables.';\n",
              "          element.innerHTML = '';\n",
              "          dataTable['output_type'] = 'display_data';\n",
              "          await google.colab.output.renderOutput(dataTable, element);\n",
              "          const docLink = document.createElement('div');\n",
              "          docLink.innerHTML = docLinkHtml;\n",
              "          element.appendChild(docLink);\n",
              "        }\n",
              "      </script>\n",
              "    </div>\n",
              "  </div>\n",
              "  "
            ]
          },
          "metadata": {},
          "execution_count": 1
        }
      ],
      "source": [
        "# importing required libraries\n",
        "import numpy as np\n",
        "import pandas as pd\n",
        "import matplotlib.pyplot as plt\n",
        "from google.colab import drive\n",
        "\n",
        "# mounting the google drive folder \n",
        "drive.mount(\"/content/drive/\")\n",
        "\n",
        "# importing the dataset\n",
        "dataset = pd.read_csv(\"/content/drive/MyDrive/DSc/Lab9/iris.csv\", header=None)\n",
        "dataset.head()"
      ]
    },
    {
      "cell_type": "markdown",
      "source": [
        "Scale the dataset\n",
        "\n",
        "We will normalize the dataset using Z-score Normalization"
      ],
      "metadata": {
        "id": "EM3vFODdLD-x"
      }
    },
    {
      "cell_type": "code",
      "source": [
        "# Dividing the dataset into X and Y\n",
        "X = dataset.iloc[:, :4]\n",
        "Y = dataset.iloc[:, 3:4]\n",
        "\n",
        "print(\"Shapes of the X and Y:\")\n",
        "print(X.shape, Y.shape)\n",
        "\n",
        "# Z score normalization\n",
        "# Performed normalization on each column\n",
        "m = X.shape[1]\n",
        "for i in range(m):\n",
        "  X[i] = (X[i] - X[i].mean())/X[i].std()\n"
      ],
      "metadata": {
        "colab": {
          "base_uri": "https://localhost:8080/"
        },
        "id": "tymyTN4ZH2MB",
        "outputId": "4a6c4acc-4719-4731-b20f-d0b78f159f76"
      },
      "execution_count": 2,
      "outputs": [
        {
          "output_type": "stream",
          "name": "stdout",
          "text": [
            "Shapes of the X and Y:\n",
            "(150, 4) (150, 1)\n"
          ]
        }
      ]
    },
    {
      "cell_type": "markdown",
      "source": [
        "Converting the X into Numpy array"
      ],
      "metadata": {
        "id": "VvNxLcUgNin2"
      }
    },
    {
      "cell_type": "code",
      "source": [
        "X = X.values\n",
        "print(X[:5])"
      ],
      "metadata": {
        "colab": {
          "base_uri": "https://localhost:8080/"
        },
        "id": "OckyaYJGMcSA",
        "outputId": "0a8f1192-a03e-4afa-b052-6aafe8bbe5b9"
      },
      "execution_count": 3,
      "outputs": [
        {
          "output_type": "stream",
          "name": "stdout",
          "text": [
            "[[-0.89767388  1.02861128 -1.33679402 -1.30859282]\n",
            " [-1.13920048 -0.12454038 -1.33679402 -1.30859282]\n",
            " [-1.38072709  0.33672028 -1.39346985 -1.30859282]\n",
            " [-1.50149039  0.10608995 -1.28011819 -1.30859282]\n",
            " [-1.01843718  1.25924161 -1.33679402 -1.30859282]]\n"
          ]
        }
      ]
    },
    {
      "cell_type": "markdown",
      "source": [
        "Calculate the covariance matrix of X"
      ],
      "metadata": {
        "id": "fsc_9vMsNw4B"
      }
    },
    {
      "cell_type": "code",
      "source": [
        "# Calculating the covariance matrix using numpy\n",
        "X = X-X.mean()\n",
        "covX = np.cov(X , rowvar = False)\n",
        "\n",
        "print(\"Covariance matrix of the features\")\n",
        "print(covX)"
      ],
      "metadata": {
        "colab": {
          "base_uri": "https://localhost:8080/"
        },
        "id": "MybXDwNuNrhR",
        "outputId": "ad0d8beb-ade6-4ca2-e537-541a917152a9"
      },
      "execution_count": 4,
      "outputs": [
        {
          "output_type": "stream",
          "name": "stdout",
          "text": [
            "Covariance matrix of the features\n",
            "[[ 1.         -0.10936925  0.87175416  0.81795363]\n",
            " [-0.10936925  1.         -0.4205161  -0.35654409]\n",
            " [ 0.87175416 -0.4205161   1.          0.9627571 ]\n",
            " [ 0.81795363 -0.35654409  0.9627571   1.        ]]\n"
          ]
        }
      ]
    },
    {
      "cell_type": "markdown",
      "source": [
        "Calculating the Eigen values and vectors from the covariance matrix"
      ],
      "metadata": {
        "id": "FuHlIlotOfBV"
      }
    },
    {
      "cell_type": "code",
      "source": [
        "# Calculate the Eigen values and vectors using numpy\n",
        "eigen_values , eigen_vectors = np.linalg.eigh(covX)\n",
        "\n",
        "print(\"Eigen values: \", eigen_values)\n",
        "print(\"Eigen vectors: \", eigen_vectors)"
      ],
      "metadata": {
        "colab": {
          "base_uri": "https://localhost:8080/"
        },
        "id": "IW2kBJabOWTk",
        "outputId": "dccf2edd-047d-45ac-cec7-f97481acf53d"
      },
      "execution_count": 5,
      "outputs": [
        {
          "output_type": "stream",
          "name": "stdout",
          "text": [
            "Eigen values:  [0.02060771 0.14735328 0.92122093 2.91081808]\n",
            "Eigen vectors:  [[ 0.26199559  0.72101681  0.37231836 -0.52237162]\n",
            " [-0.12413481 -0.24203288  0.92555649  0.26335492]\n",
            " [-0.80115427 -0.14089226  0.02109478 -0.58125401]\n",
            " [ 0.52354627 -0.6338014   0.06541577 -0.56561105]]\n"
          ]
        }
      ]
    },
    {
      "cell_type": "markdown",
      "source": [
        "Sort the eigen vectors according to the eigen values"
      ],
      "metadata": {
        "id": "frXNBSQUPgvB"
      }
    },
    {
      "cell_type": "code",
      "source": [
        "# Sorting the eigen vectors\n",
        "# first we get the descending sorted state of eigen values indices\n",
        "sortedIndex = np.argsort(eigen_values)[::-1]\n",
        "\n",
        "# then we sort the eigen values and vectors according to indices\n",
        "sortedValues = eigen_values[sortedIndex]\n",
        "sortedVectors = eigen_vectors[:,sortedIndex]\n",
        "\n",
        "print(\"Sorted Eigen values: \", sortedValues)\n",
        "print(\"Sorted Eigen vectors: \", sortedVectors)"
      ],
      "metadata": {
        "colab": {
          "base_uri": "https://localhost:8080/"
        },
        "id": "dcgCRzX8PRm9",
        "outputId": "adc9a09c-a3d0-4507-99dd-2021778cc5c2"
      },
      "execution_count": 6,
      "outputs": [
        {
          "output_type": "stream",
          "name": "stdout",
          "text": [
            "Sorted Eigen values:  [2.91081808 0.92122093 0.14735328 0.02060771]\n",
            "Sorted Eigen vectors:  [[-0.52237162  0.37231836  0.72101681  0.26199559]\n",
            " [ 0.26335492  0.92555649 -0.24203288 -0.12413481]\n",
            " [-0.58125401  0.02109478 -0.14089226 -0.80115427]\n",
            " [-0.56561105  0.06541577 -0.6338014   0.52354627]]\n"
          ]
        }
      ]
    },
    {
      "cell_type": "markdown",
      "source": [
        "Plotting the percentage of variance explained"
      ],
      "metadata": {
        "id": "p4Ty9PVpQqDh"
      }
    },
    {
      "cell_type": "code",
      "source": [
        "# Plot the percentage of variance explained\n",
        "# To find the percentage of variance explained, divide each eigen value with the sum of all eigen values\n",
        "percVariance = sortedValues/sortedValues.sum()\n",
        "print(percVariance)\n",
        "\n",
        "# Plot the variance percentage data\n",
        "plt.title(\"Percentage of variance explained by eigen values\")\n",
        "plt.xlabel(\"Nth PC\")\n",
        "plt.ylabel(\"Variance percentage\")\n",
        "plt.bar(range(0,len(percVariance)), percVariance)"
      ],
      "metadata": {
        "colab": {
          "base_uri": "https://localhost:8080/",
          "height": 331
        },
        "id": "DBX_QJSyP9Xv",
        "outputId": "8ac82776-a25d-49fb-f97e-74600ad12c2d"
      },
      "execution_count": 7,
      "outputs": [
        {
          "output_type": "stream",
          "name": "stdout",
          "text": [
            "[0.72770452 0.23030523 0.03683832 0.00515193]\n"
          ]
        },
        {
          "output_type": "execute_result",
          "data": {
            "text/plain": [
              "<BarContainer object of 4 artists>"
            ]
          },
          "metadata": {},
          "execution_count": 7
        },
        {
          "output_type": "display_data",
          "data": {
            "text/plain": [
              "<Figure size 432x288 with 1 Axes>"
            ],
            "image/png": "[encoded data removed]"
          },
          "metadata": {
            "needs_background": "light"
          }
        }
      ]
    },
    {
      "cell_type": "markdown",
      "source": [
        "A function that returns first K eigen values"
      ],
      "metadata": {
        "id": "3Yxv967ETsCJ"
      }
    },
    {
      "cell_type": "code",
      "source": [
        "# Function for choosing the first k eigen vectors\n",
        "def firstKEigen(sortedEigenValues, sortedEigenVectors, k):\n",
        "  return sortedEigenValues[:k], sortedEigenVectors[:,:k]\n",
        "\n",
        "print(firstKEigen(sortedValues, sortedVectors, 3))"
      ],
      "metadata": {
        "colab": {
          "base_uri": "https://localhost:8080/"
        },
        "id": "DXgkQF4iSdfL",
        "outputId": "3a2b3be1-3710-46f2-9b78-9e86392a3352"
      },
      "execution_count": 8,
      "outputs": [
        {
          "output_type": "stream",
          "name": "stdout",
          "text": [
            "(array([2.91081808, 0.92122093, 0.14735328]), array([[-0.52237162,  0.37231836,  0.72101681],\n",
            "       [ 0.26335492,  0.92555649, -0.24203288],\n",
            "       [-0.58125401,  0.02109478, -0.14089226],\n",
            "       [-0.56561105,  0.06541577, -0.6338014 ]]))\n"
          ]
        }
      ]
    },
    {
      "cell_type": "markdown",
      "source": [
        "A function that can transform dataset using Eigen vectors"
      ],
      "metadata": {
        "id": "BBimbkJgTwYA"
      }
    },
    {
      "cell_type": "code",
      "source": [
        "# Transforming the original matrix\n",
        "def PCA_transform(X, eigen_values, eigen_vectors, k):\n",
        "  print(\"Old shape of X: \", X.shape)\n",
        "  X = X - np.mean(X , axis = 0)\n",
        "  # getting the first k eigen vectors\n",
        "  pValues, pVectors = firstKEigen(eigen_values, eigen_vectors, k)\n",
        "\n",
        "  #Transform the data \n",
        "  X_reduced = np.dot(pVectors.transpose(),X.transpose()).transpose()\n",
        "  print(\"New shape of X: \", X_reduced.shape)\n",
        "  return X_reduced\n"
      ],
      "metadata": {
        "id": "QWArVAT6Tb-c"
      },
      "execution_count": 9,
      "outputs": []
    },
    {
      "cell_type": "code",
      "source": [
        "# Using the functions to transform the data\n",
        "pca_x = PCA_transform(X, sortedValues, sortedVectors, 3)\n",
        "\n",
        "print(pca_x[:10])\n",
        "\n",
        "# Using the functions to transform the data\n",
        "pca_x = PCA_transform(X, sortedValues, sortedVectors, 2)\n",
        "\n",
        "print(pca_x[:10])"
      ],
      "metadata": {
        "colab": {
          "base_uri": "https://localhost:8080/"
        },
        "id": "DaI2_XzjVnKD",
        "outputId": "56b83840-0fae-4b61-ade0-115150f4ca04"
      },
      "execution_count": 10,
      "outputs": [
        {
          "output_type": "stream",
          "name": "stdout",
          "text": [
            "Old shape of X:  (150, 4)\n",
            "New shape of X:  (150, 3)\n",
            "[[ 2.25698063  0.5040154   0.12153619]\n",
            " [ 2.07945912 -0.65321639  0.22649206]\n",
            " [ 2.36004408 -0.31741394 -0.05130774]\n",
            " [ 2.29650366 -0.57344661 -0.09853036]\n",
            " [ 2.38080159  0.67251441 -0.0213563 ]\n",
            " [ 2.06362348  1.51347827 -0.03058181]\n",
            " [ 2.43754534  0.07431372 -0.34105507]\n",
            " [ 2.22638327  0.24678717  0.08229876]\n",
            " [ 2.3341381  -1.09148977 -0.15304967]\n",
            " [ 2.18136797 -0.44713112  0.24573628]]\n",
            "Old shape of X:  (150, 4)\n",
            "New shape of X:  (150, 2)\n",
            "[[ 2.25698063  0.5040154 ]\n",
            " [ 2.07945912 -0.65321639]\n",
            " [ 2.36004408 -0.31741394]\n",
            " [ 2.29650366 -0.57344661]\n",
            " [ 2.38080159  0.67251441]\n",
            " [ 2.06362348  1.51347827]\n",
            " [ 2.43754534  0.07431372]\n",
            " [ 2.22638327  0.24678717]\n",
            " [ 2.3341381  -1.09148977]\n",
            " [ 2.18136797 -0.44713112]]\n"
          ]
        }
      ]
    },
    {
      "cell_type": "markdown",
      "source": [
        "--------------------------------------------------------------------------\n",
        "\n",
        "## **2. Implement PCA and Logistic Regression for the following dataset by performing the required steps.**\n",
        "\n",
        "Dataset: https://www.kaggle.com/datasets/dileep070/heart-disease-prediction-using-logistic-regression"
      ],
      "metadata": {
        "id": "dZPJpomMWDs8"
      }
    },
    {
      "cell_type": "code",
      "source": [
        "#importing the dataset\n",
        "dataset_heart = pd.read_csv(\"/content/drive/MyDrive/DSc/Lab9/framingham.csv\")\n",
        "\n",
        "# dataset consists of some NaN values, so we drop the rows with NaN\n",
        "dataset_heart = dataset_heart.dropna() \n",
        "dataset_heart.head()\n",
        "dataset_heart = dataset_heart.sample(frac=1.0, random_state=25)"
      ],
      "metadata": {
        "id": "TXOGjrvyVqS3"
      },
      "execution_count": 26,
      "outputs": []
    },
    {
      "cell_type": "markdown",
      "source": [
        "Scaling the data"
      ],
      "metadata": {
        "id": "19CNs5HrbAtD"
      }
    },
    {
      "cell_type": "code",
      "source": [
        "# Getting the X_heart and Y_heart with X_heart normalized\n",
        "train_data = dataset_heart.sample(frac=0.8, random_state=25)\n",
        "test_data = dataset_heart.drop(train_data.index)\n",
        "X_heart_train = train_data.iloc[:, :15]\n",
        "Y_heart_train = train_data.iloc[:, 15:16]\n",
        "X_heart_test = test_data.iloc[:, :15]\n",
        "Y_heart_test = test_data.iloc[:, 15:16]\n",
        "\n",
        "X_heart_train = (X_heart_train - X_heart_train.mean())/X_heart_train.std()\n",
        "print(X_heart_train.head())\n",
        "\n",
        "X_heart_train = X_heart_train.values"
      ],
      "metadata": {
        "colab": {
          "base_uri": "https://localhost:8080/"
        },
        "id": "mu7DRzKNX-Nw",
        "outputId": "0454eaa1-38a4-47cc-c5ea-6bd72028b42a"
      },
      "execution_count": 27,
      "outputs": [
        {
          "output_type": "stream",
          "name": "stdout",
          "text": [
            "          male       age  education  currentSmoker  cigsPerDay    BPMeds  \\\n",
            "1704 -0.899860  0.976997  -0.962380      -0.984564   -0.767195 -0.172972   \n",
            "1465 -0.899860 -0.305693  -0.962380       1.015331    0.932710 -0.172972   \n",
            "3385  1.110904 -0.305693  -0.962380       1.015331    0.507734 -0.172972   \n",
            "752   1.110904  1.443430   0.016397      -0.984564   -0.767195 -0.172972   \n",
            "1425 -0.899860 -0.422301   0.016397       1.015331    0.932710 -0.172972   \n",
            "\n",
            "      prevalentStroke  prevalentHyp  diabetes   totChol     sysBP     diaBP  \\\n",
            "1704        -0.071784      1.505783  -0.16658 -0.306785  0.648446 -0.442404   \n",
            "1465        -0.071784      1.505783  -0.16658  2.002989  1.263763  1.026132   \n",
            "3385        -0.071784     -0.663879  -0.16658 -0.691748 -0.331504 -0.903944   \n",
            "752         -0.071784     -0.663879  -0.16658 -0.510589 -1.015190 -1.701150   \n",
            "1425        -0.071784     -0.663879  -0.16658  0.304625 -0.787295 -0.736112   \n",
            "\n",
            "           BMI  heartRate   glucose  \n",
            "1704 -1.072181  -0.055572  0.128289  \n",
            "1465  1.570000   1.614157  0.211612  \n",
            "3385 -1.154438   0.361860 -0.329988  \n",
            "752  -0.491400   0.111401  0.544905  \n",
            "1425 -0.765588   2.031589 -0.538296  \n"
          ]
        }
      ]
    },
    {
      "cell_type": "markdown",
      "source": [
        "Function to select Principal Components"
      ],
      "metadata": {
        "id": "UtXM9yitbV5G"
      }
    },
    {
      "cell_type": "code",
      "source": [
        "def PCA(X):\n",
        "  # Subtract the mean of each of the features\n",
        "  X = X - np.mean(X , axis = 0)\n",
        "    \n",
        "  # Calculate the covariance matrix of all features\n",
        "  covX = np.cov(X , rowvar = False)\n",
        "    \n",
        "  # Calculate the eigen values and vectors\n",
        "  eigenValues , eigenVectors = np.linalg.eigh(covX)\n",
        "    \n",
        "  # Sort the vectors according to their eigen values in descending order\n",
        "  sortedIndex = np.argsort(eigenValues)[::-1]\n",
        "  sortedValues = eigenValues[sortedIndex]\n",
        "  sortedVectors = eigenVectors[:,sortedIndex]\n",
        "\n",
        "  # Plot the percentage of variance explained\n",
        "  # To find the percentage of variance explained, divide each eigen value with the sum of all eigen values\n",
        "  percVariance = sortedValues/sortedValues.sum()\n",
        "  print(percVariance)\n",
        "\n",
        "  # Plot the variance percentage data\n",
        "  plt.title(\"Percentage of variance explained by eigen values\")\n",
        "  plt.xlabel(\"Nth PC\")\n",
        "  plt.ylabel(\"Variance percentage\")\n",
        "  plt.bar(range(0,len(percVariance)), percVariance)\n",
        "    \n",
        "  return sortedValues, sortedVectors, percVariance"
      ],
      "metadata": {
        "id": "xCVORpW5YxyC"
      },
      "execution_count": 28,
      "outputs": []
    },
    {
      "cell_type": "code",
      "source": [
        "# Applying the PCA transformation on the datset\n",
        "sortedValues, sortedVectors, percVariance = PCA(X_heart_train)\n",
        "\n",
        "k = 0\n",
        "sum = 0\n",
        "for i in range(len(percVariance)):\n",
        "  if(sum>=0.9):\n",
        "    break\n",
        "  sum += percVariance[i]\n",
        "  k+=1\n",
        "\n",
        "print(\"The first \",k,\" eigen values are capturing more than 90% of the variance\")"
      ],
      "metadata": {
        "colab": {
          "base_uri": "https://localhost:8080/",
          "height": 367
        },
        "id": "3-szUInndl0h",
        "outputId": "34688db9-9903-4c96-fa2e-be89658a3cb2"
      },
      "execution_count": 29,
      "outputs": [
        {
          "output_type": "stream",
          "name": "stdout",
          "text": [
            "[0.21625689 0.12705465 0.10454174 0.07422201 0.0697821  0.06782362\n",
            " 0.06666105 0.05950324 0.05396614 0.04607804 0.03903748 0.02587362\n",
            " 0.02400045 0.0138809  0.01131806]\n",
            "The first  11  eigen values are capturing more than 90% of the variance\n"
          ]
        },
        {
          "output_type": "display_data",
          "data": {
            "text/plain": [
              "<Figure size 432x288 with 1 Axes>"
            ],
            "image/png": "[encoded data removed]"
          },
          "metadata": {
            "needs_background": "light"
          }
        }
      ]
    },
    {
      "cell_type": "markdown",
      "source": [
        "From the graph, we can observe how much variance is captured by each eigen value\n",
        "\n",
        "We can select first 11 eigen values because they are capturing more than 90% of the variance"
      ],
      "metadata": {
        "id": "u3ijNgLe8ot7"
      }
    },
    {
      "cell_type": "code",
      "source": [
        "# Transforming the X_heart using first 10 eigen values\n",
        "# First get the first k eigen vectors\n",
        "pValues, pVectors = firstKEigen(sortedValues, sortedVectors, k)\n",
        "\n",
        "# Use the first k eigen vectors to transform X_heart\n",
        "print(\"Shape of X_heart before applying PCA\", X_heart_train.shape)\n",
        "X_heart_reduced = np.dot(pVectors.transpose() , X_heart_train.transpose() ).transpose()\n",
        "print(\"Shape of X_heart after applying PCA\", X_heart_reduced.shape)"
      ],
      "metadata": {
        "colab": {
          "base_uri": "https://localhost:8080/"
        },
        "id": "h9A8IKZo9rNR",
        "outputId": "a0a3d945-7ad3-4640-ebdc-6d977df79b32"
      },
      "execution_count": 30,
      "outputs": [
        {
          "output_type": "stream",
          "name": "stdout",
          "text": [
            "Shape of X_heart before applying PCA (2925, 15)\n",
            "Shape of X_heart after applying PCA (2925, 11)\n"
          ]
        }
      ]
    },
    {
      "cell_type": "markdown",
      "source": [
        "So using PCA, we have reduced 4 less significant features in decision making"
      ],
      "metadata": {
        "id": "J6GmS-2I-aRl"
      }
    },
    {
      "cell_type": "markdown",
      "source": [
        "Now we can fit a Logistic regression model to the transformed data"
      ],
      "metadata": {
        "id": "yGi502eaiAW_"
      }
    },
    {
      "cell_type": "code",
      "source": [
        "# import required modules from keras library to fit a neural network with zero hidden layers and only one neuron in output layer\n",
        "from tensorflow.keras.models import Sequential\n",
        "from tensorflow.keras.layers import Dense\n",
        "\n",
        "# Build the neural network using keras\n",
        "number_of_classes = 2\n",
        "number_of_features = X_heart_reduced.shape[1]\n",
        "model = Sequential()\n",
        "model.add(Dense(1,activation = 'sigmoid',input_dim = number_of_features))\n",
        "model.compile(optimizer='adam', loss='binary_crossentropy', metrics=\"accuracy\")\n"
      ],
      "metadata": {
        "id": "-sL0wwMCd6M_"
      },
      "execution_count": 37,
      "outputs": []
    },
    {
      "cell_type": "code",
      "source": [
        "# Fit the model to the data\n",
        "model.fit(X_heart_reduced, Y_heart_train, epochs=50)\n"
      ],
      "metadata": {
        "colab": {
          "base_uri": "https://localhost:8080/"
        },
        "id": "jYO_PKKR-49q",
        "outputId": "180dbd4b-dfd8-4b88-c440-038dfb90e5b3"
      },
      "execution_count": 38,
      "outputs": [
        {
          "output_type": "stream",
          "name": "stdout",
          "text": [
            "Epoch 1/50\n",
            "92/92 [==============================] - 0s 1ms/step - loss: 0.8401 - accuracy: 0.5091\n",
            "Epoch 2/50\n",
            "92/92 [==============================] - 0s 1ms/step - loss: 0.7669 - accuracy: 0.5484\n",
            "Epoch 3/50\n",
            "92/92 [==============================] - 0s 1ms/step - loss: 0.7041 - accuracy: 0.5904\n",
            "Epoch 4/50\n",
            "92/92 [==============================] - 0s 1ms/step - loss: 0.6520 - accuracy: 0.6356\n",
            "Epoch 5/50\n",
            "92/92 [==============================] - 0s 1ms/step - loss: 0.6093 - accuracy: 0.6855\n",
            "Epoch 6/50\n",
            "92/92 [==============================] - 0s 1ms/step - loss: 0.5741 - accuracy: 0.7309\n",
            "Epoch 7/50\n",
            "92/92 [==============================] - 0s 1ms/step - loss: 0.5450 - accuracy: 0.7682\n",
            "Epoch 8/50\n",
            "92/92 [==============================] - 0s 1ms/step - loss: 0.5212 - accuracy: 0.7969\n",
            "Epoch 9/50\n",
            "92/92 [==============================] - 0s 1ms/step - loss: 0.5016 - accuracy: 0.8147\n",
            "Epoch 10/50\n",
            "92/92 [==============================] - 0s 1ms/step - loss: 0.4849 - accuracy: 0.8287\n",
            "Epoch 11/50\n",
            "92/92 [==============================] - 0s 1ms/step - loss: 0.4710 - accuracy: 0.8311\n",
            "Epoch 12/50\n",
            "92/92 [==============================] - 0s 1ms/step - loss: 0.4590 - accuracy: 0.8376\n",
            "Epoch 13/50\n",
            "92/92 [==============================] - 0s 1ms/step - loss: 0.4487 - accuracy: 0.8414\n",
            "Epoch 14/50\n",
            "92/92 [==============================] - 0s 1ms/step - loss: 0.4398 - accuracy: 0.8431\n",
            "Epoch 15/50\n",
            "92/92 [==============================] - 0s 1ms/step - loss: 0.4321 - accuracy: 0.8455\n",
            "Epoch 16/50\n",
            "92/92 [==============================] - 0s 1ms/step - loss: 0.4254 - accuracy: 0.8458\n",
            "Epoch 17/50\n",
            "92/92 [==============================] - 0s 1ms/step - loss: 0.4195 - accuracy: 0.8448\n",
            "Epoch 18/50\n",
            "92/92 [==============================] - 0s 2ms/step - loss: 0.4143 - accuracy: 0.8451\n",
            "Epoch 19/50\n",
            "92/92 [==============================] - 0s 1ms/step - loss: 0.4098 - accuracy: 0.8455\n",
            "Epoch 20/50\n",
            "92/92 [==============================] - 0s 1ms/step - loss: 0.4057 - accuracy: 0.8465\n",
            "Epoch 21/50\n",
            "92/92 [==============================] - 0s 1ms/step - loss: 0.4022 - accuracy: 0.8475\n",
            "Epoch 22/50\n",
            "92/92 [==============================] - 0s 1ms/step - loss: 0.3991 - accuracy: 0.8485\n",
            "Epoch 23/50\n",
            "92/92 [==============================] - 0s 1ms/step - loss: 0.3963 - accuracy: 0.8489\n",
            "Epoch 24/50\n",
            "92/92 [==============================] - 0s 1ms/step - loss: 0.3939 - accuracy: 0.8503\n",
            "Epoch 25/50\n",
            "92/92 [==============================] - 0s 1ms/step - loss: 0.3917 - accuracy: 0.8516\n",
            "Epoch 26/50\n",
            "92/92 [==============================] - 0s 1ms/step - loss: 0.3900 - accuracy: 0.8516\n",
            "Epoch 27/50\n",
            "92/92 [==============================] - 0s 1ms/step - loss: 0.3882 - accuracy: 0.8513\n",
            "Epoch 28/50\n",
            "92/92 [==============================] - 0s 1ms/step - loss: 0.3867 - accuracy: 0.8520\n",
            "Epoch 29/50\n",
            "92/92 [==============================] - 0s 1ms/step - loss: 0.3855 - accuracy: 0.8523\n",
            "Epoch 30/50\n",
            "92/92 [==============================] - 0s 1ms/step - loss: 0.3844 - accuracy: 0.8520\n",
            "Epoch 31/50\n",
            "92/92 [==============================] - 0s 1ms/step - loss: 0.3834 - accuracy: 0.8526\n",
            "Epoch 32/50\n",
            "92/92 [==============================] - 0s 1ms/step - loss: 0.3825 - accuracy: 0.8526\n",
            "Epoch 33/50\n",
            "92/92 [==============================] - 0s 1ms/step - loss: 0.3817 - accuracy: 0.8523\n",
            "Epoch 34/50\n",
            "92/92 [==============================] - 0s 1ms/step - loss: 0.3810 - accuracy: 0.8533\n",
            "Epoch 35/50\n",
            "92/92 [==============================] - 0s 1ms/step - loss: 0.3804 - accuracy: 0.8526\n",
            "Epoch 36/50\n",
            "92/92 [==============================] - 0s 1ms/step - loss: 0.3799 - accuracy: 0.8523\n",
            "Epoch 37/50\n",
            "92/92 [==============================] - 0s 1ms/step - loss: 0.3795 - accuracy: 0.8533\n",
            "Epoch 38/50\n",
            "92/92 [==============================] - 0s 1ms/step - loss: 0.3792 - accuracy: 0.8537\n",
            "Epoch 39/50\n",
            "92/92 [==============================] - 0s 2ms/step - loss: 0.3789 - accuracy: 0.8533\n",
            "Epoch 40/50\n",
            "92/92 [==============================] - 0s 1ms/step - loss: 0.3785 - accuracy: 0.8533\n",
            "Epoch 41/50\n",
            "92/92 [==============================] - 0s 1ms/step - loss: 0.3783 - accuracy: 0.8537\n",
            "Epoch 42/50\n",
            "92/92 [==============================] - 0s 1ms/step - loss: 0.3781 - accuracy: 0.8526\n",
            "Epoch 43/50\n",
            "92/92 [==============================] - 0s 1ms/step - loss: 0.3779 - accuracy: 0.8533\n",
            "Epoch 44/50\n",
            "92/92 [==============================] - 0s 1ms/step - loss: 0.3777 - accuracy: 0.8523\n",
            "Epoch 45/50\n",
            "92/92 [==============================] - 0s 1ms/step - loss: 0.3776 - accuracy: 0.8530\n",
            "Epoch 46/50\n",
            "92/92 [==============================] - 0s 1ms/step - loss: 0.3775 - accuracy: 0.8533\n",
            "Epoch 47/50\n",
            "92/92 [==============================] - 0s 1ms/step - loss: 0.3775 - accuracy: 0.8513\n",
            "Epoch 48/50\n",
            "92/92 [==============================] - 0s 1ms/step - loss: 0.3773 - accuracy: 0.8520\n",
            "Epoch 49/50\n",
            "92/92 [==============================] - 0s 1ms/step - loss: 0.3772 - accuracy: 0.8526\n",
            "Epoch 50/50\n",
            "92/92 [==============================] - 0s 1ms/step - loss: 0.3773 - accuracy: 0.8503\n"
          ]
        },
        {
          "output_type": "execute_result",
          "data": {
            "text/plain": [
              "<keras.callbacks.History at 0x7f44d3ab9390>"
            ]
          },
          "metadata": {},
          "execution_count": 38
        }
      ]
    },
    {
      "cell_type": "markdown",
      "source": [
        "The model was converging at less than 50 epochs, so I have trained the model for 50 epochs only"
      ],
      "metadata": {
        "id": "O7xUNOr1A_tW"
      }
    },
    {
      "cell_type": "code",
      "source": [
        "model.summary()"
      ],
      "metadata": {
        "colab": {
          "base_uri": "https://localhost:8080/"
        },
        "id": "o4bVmfRA_nn7",
        "outputId": "9aad8357-4e10-43f5-c1ce-3cac237d25e8"
      },
      "execution_count": 34,
      "outputs": [
        {
          "output_type": "stream",
          "name": "stdout",
          "text": [
            "Model: \"sequential_2\"\n",
            "_________________________________________________________________\n",
            " Layer (type)                Output Shape              Param #   \n",
            "=================================================================\n",
            " dense_2 (Dense)             (None, 1)                 12        \n",
            "                                                                 \n",
            "=================================================================\n",
            "Total params: 12\n",
            "Trainable params: 12\n",
            "Non-trainable params: 0\n",
            "_________________________________________________________________\n"
          ]
        }
      ]
    },
    {
      "cell_type": "markdown",
      "source": [
        "Making predictions and printing accuracy"
      ],
      "metadata": {
        "id": "ny5GPiNozhdp"
      }
    },
    {
      "cell_type": "code",
      "source": [
        "X_test_reduced = np.dot(pVectors.transpose() , X_heart_test.transpose() ).transpose()\n",
        "preds = model.predict(X_test_reduced)"
      ],
      "metadata": {
        "id": "BfpGvMityJ9Z"
      },
      "execution_count": 39,
      "outputs": []
    }
  ]
}