{
 "cells": [
  {
   "cell_type": "markdown",
   "metadata": {},
   "source": [
    "# Data Science Assignment - 4\n",
    "## Polynomial Regression on position salaries dataset from Kaggle\n",
    "Dataset link - https://www.kaggle.com/jaypradipshah/polynomial-regression-from-scratch/data?select=Position_Salaries.csv\n",
    "\n",
    "##### Name: Boganadham Venkata Sai Manoj\n",
    "##### Section: A\n",
    "##### Roll no: 197121"
   ]
  },
  {
   "cell_type": "code",
   "execution_count": 2,
   "metadata": {},
   "outputs": [
    {
     "data": {
      "text/html": [
       "<div>\n",
       "<style scoped>\n",
       "    .dataframe tbody tr th:only-of-type {\n",
       "        vertical-align: middle;\n",
       "    }\n",
       "\n",
       "    .dataframe tbody tr th {\n",
       "        vertical-align: top;\n",
       "    }\n",
       "\n",
       "    .dataframe thead th {\n",
       "        text-align: right;\n",
       "    }\n",
       "</style>\n",
       "<table border=\"1\" class=\"dataframe\">\n",
       "  <thead>\n",
       "    <tr style=\"text-align: right;\">\n",
       "      <th></th>\n",
       "      <th>Position</th>\n",
       "      <th>Level</th>\n",
       "      <th>Salary</th>\n",
       "    </tr>\n",
       "  </thead>\n",
       "  <tbody>\n",
       "    <tr>\n",
       "      <th>0</th>\n",
       "      <td>Business Analyst</td>\n",
       "      <td>1</td>\n",
       "      <td>45000</td>\n",
       "    </tr>\n",
       "    <tr>\n",
       "      <th>1</th>\n",
       "      <td>Junior Consultant</td>\n",
       "      <td>2</td>\n",
       "      <td>50000</td>\n",
       "    </tr>\n",
       "    <tr>\n",
       "      <th>2</th>\n",
       "      <td>Senior Consultant</td>\n",
       "      <td>3</td>\n",
       "      <td>60000</td>\n",
       "    </tr>\n",
       "    <tr>\n",
       "      <th>3</th>\n",
       "      <td>Manager</td>\n",
       "      <td>4</td>\n",
       "      <td>80000</td>\n",
       "    </tr>\n",
       "    <tr>\n",
       "      <th>4</th>\n",
       "      <td>Country Manager</td>\n",
       "      <td>5</td>\n",
       "      <td>110000</td>\n",
       "    </tr>\n",
       "    <tr>\n",
       "      <th>5</th>\n",
       "      <td>Region Manager</td>\n",
       "      <td>6</td>\n",
       "      <td>150000</td>\n",
       "    </tr>\n",
       "    <tr>\n",
       "      <th>6</th>\n",
       "      <td>Partner</td>\n",
       "      <td>7</td>\n",
       "      <td>200000</td>\n",
       "    </tr>\n",
       "    <tr>\n",
       "      <th>7</th>\n",
       "      <td>Senior Partner</td>\n",
       "      <td>8</td>\n",
       "      <td>300000</td>\n",
       "    </tr>\n",
       "    <tr>\n",
       "      <th>8</th>\n",
       "      <td>C-level</td>\n",
       "      <td>9</td>\n",
       "      <td>500000</td>\n",
       "    </tr>\n",
       "    <tr>\n",
       "      <th>9</th>\n",
       "      <td>CEO</td>\n",
       "      <td>10</td>\n",
       "      <td>1000000</td>\n",
       "    </tr>\n",
       "  </tbody>\n",
       "</table>\n",
       "</div>"
      ],
      "text/plain": [
       "            Position  Level   Salary\n",
       "0   Business Analyst      1    45000\n",
       "1  Junior Consultant      2    50000\n",
       "2  Senior Consultant      3    60000\n",
       "3            Manager      4    80000\n",
       "4    Country Manager      5   110000\n",
       "5     Region Manager      6   150000\n",
       "6            Partner      7   200000\n",
       "7     Senior Partner      8   300000\n",
       "8            C-level      9   500000\n",
       "9                CEO     10  1000000"
      ]
     },
     "execution_count": 2,
     "metadata": {},
     "output_type": "execute_result"
    }
   ],
   "source": [
    "# Importing the required modules first\n",
    "import numpy as np\n",
    "import pandas as pd\n",
    "import matplotlib.pyplot as plt\n",
    "import math\n",
    "import random\n",
    "\n",
    "# Import the dataset \n",
    "raw_data = pd.read_csv('Position_Salaries.csv')\n",
    "raw_data"
   ]
  },
  {
   "cell_type": "code",
   "execution_count": 3,
   "metadata": {},
   "outputs": [
    {
     "data": {
      "text/plain": [
       "Text(0, 0.5, 'Salary')"
      ]
     },
     "execution_count": 3,
     "metadata": {},
     "output_type": "execute_result"
    },
    {
     "data": {
      "image/png": "[encoded data removed]",
      "text/plain": [
       "<Figure size 432x288 with 1 Axes>"
      ]
     },
     "metadata": {
      "needs_background": "light"
     },
     "output_type": "display_data"
    }
   ],
   "source": [
    "# Plotting the raw data\n",
    "plt.plot(raw_data['Level'], raw_data['Salary'], 'ro')\n",
    "plt.xlabel(\"Level\")\n",
    "plt.ylabel(\"Salary\")"
   ]
  },
  {
   "cell_type": "markdown",
   "metadata": {},
   "source": [
    "From the plot of this simple data, it is clear that the relation between salary and level is not linear but some higher degree polynomial. So we can not fit a normal Linear Regression model to this data. Let us try to fit an appropriate degree polynomial by trial-and-error."
   ]
  },
  {
   "cell_type": "markdown",
   "metadata": {},
   "source": [
    "##### Function to split the data into training and testing Numpy arrays"
   ]
  },
  {
   "cell_type": "code",
   "execution_count": 104,
   "metadata": {},
   "outputs": [],
   "source": [
    "# Creating a function to create training and testing data from the pandas dataframe\n",
    "# Returns 4 numpy arrays: X_train, Y_train, X_test, Y_test\n",
    "# The X_train and X_test are returned with the first column as ones\n",
    "def create_training_and_testing_data(raw_data):\n",
    "    # Dropping the unwanted columns\n",
    "    raw_data = raw_data.drop(['Position'], axis=1)\n",
    "    X = raw_data['Level'].values\n",
    "    Y = raw_data['Salary'].values\n",
    "    # Create a list of columns in the dataframe\n",
    "    columns = list(raw_data.columns)\n",
    "    \n",
    "    # Sample the dataframe into training and testing data\n",
    "    train_data = raw_data.sample(frac=0.8, random_state=25)\n",
    "    test_data = raw_data.drop(train_data.index)\n",
    "    \n",
    "    # Split the training data into X and Y\n",
    "    X_train = train_data[columns[:-1]]\n",
    "    Y_train = train_data[columns[-1]]\n",
    "\n",
    "    # Split the testing data into X and Y\n",
    "    X_test = test_data[columns[:-1]]\n",
    "    Y_test = test_data[columns[-1]]\n",
    "\n",
    "    # Convert the X and Y data into numpy arrays\n",
    "    X_train = X_train.values\n",
    "    Y_train = Y_train.values\n",
    "    Y_train = Y_train.reshape(len(Y_train), 1)\n",
    "    X_test = X_test.values\n",
    "    Y_test = Y_test.values\n",
    "    Y_test = Y_test.reshape(len(Y_test), 1)\n",
    "    \n",
    "    # Adding ones to the X data\n",
    "    X_train = np.c_[np.ones(len(X_train)), X_train]\n",
    "    X_test = np.c_[np.ones(len(X_test)), X_test]\n",
    "\n",
    "\n",
    "    return X, Y, X_train, Y_train, X_test, Y_test\n",
    "\n"
   ]
  },
  {
   "cell_type": "markdown",
   "metadata": {},
   "source": [
    "##### Function to raise the degree of a column"
   ]
  },
  {
   "cell_type": "code",
   "execution_count": 38,
   "metadata": {},
   "outputs": [],
   "source": [
    "# Raise particular column in a numpy array to desired degree\n",
    "def raise_column_to_power(arr, power, column):\n",
    "    for i in range(len(arr)):\n",
    "        arr[i][column] = arr[i][column] ** power\n",
    "    return arr\n"
   ]
  },
  {
   "cell_type": "markdown",
   "metadata": {},
   "source": [
    "##### Function to normalise the training data"
   ]
  },
  {
   "cell_type": "code",
   "execution_count": 76,
   "metadata": {},
   "outputs": [],
   "source": [
    "def norm_data(X):\n",
    "    mean = np.mean(X, axis = 0)\n",
    "    std = np.std(X, axis = 0)\n",
    "    for i in range(X.shape[0]):\n",
    "        X[i][1] = (X[i][1] - mean[1])/std[1]\n",
    "    return X"
   ]
  },
  {
   "cell_type": "markdown",
   "metadata": {},
   "source": [
    "##### Cost Function"
   ]
  },
  {
   "cell_type": "code",
   "execution_count": 26,
   "metadata": {},
   "outputs": [],
   "source": [
    "# Get the cost function\n",
    "def J(X, Y, theta):\n",
    "    m = len(X)\n",
    "    h = X @ theta - Y\n",
    "    h_T = np.transpose(h)\n",
    "    sqr = h_T @ h\n",
    "    cost = (sqr)/(2*m)\n",
    "    return cost"
   ]
  },
  {
   "cell_type": "markdown",
   "metadata": {},
   "source": [
    "##### Get gradient function"
   ]
  },
  {
   "cell_type": "code",
   "execution_count": 80,
   "metadata": {},
   "outputs": [],
   "source": [
    "# Get gradient function\n",
    "def gradient(X, Y, theta):\n",
    "    m = X.shape[0]\n",
    "    h = X @ theta\n",
    "    X_T = np.transpose(X)\n",
    "    h = np.subtract(h, Y)\n",
    "    pd = (X_T @ h)/m\n",
    "    return pd"
   ]
  },
  {
   "cell_type": "markdown",
   "metadata": {},
   "source": [
    "##### Function to perform Gradient descent"
   ]
  },
  {
   "cell_type": "code",
   "execution_count": 175,
   "metadata": {},
   "outputs": [],
   "source": [
    "# Function to create a linear regression model\n",
    "def polynomial_regression(X_train, Y_train, epochs, alpha, degree):\n",
    "    m = X_train.shape[0]\n",
    "    n = X_train.shape[1]\n",
    "    cost_arr = []\n",
    "    # Initialising the parameters\n",
    "    theta = np.zeros((n, 1), dtype=float)\n",
    "    # Converting the X_train data into a polynomial form\n",
    "    X_train = norm_data(X_train)\n",
    "    X_train = raise_column_to_power(X_train, degree, 1)\n",
    "    # Perfoming the gradient descent\n",
    "    for i in range(epochs):\n",
    "        theta = theta - alpha*gradient(X_train, Y_train, theta)\n",
    "        cost = J(X_train, Y_train, theta)\n",
    "        cost_arr.append(cost)\n",
    "        # print(\"Cost at epoch {} is {}\".format(i, cost));\n",
    "    # Returning the parameters\n",
    "    return theta"
   ]
  },
  {
   "cell_type": "markdown",
   "metadata": {},
   "source": [
    "##### Get the predicted values"
   ]
  },
  {
   "cell_type": "code",
   "execution_count": 176,
   "metadata": {},
   "outputs": [],
   "source": [
    "# Get the predictions\n",
    "def get_predictions(X_test, theta, degree):\n",
    "    X_test = norm_data(X_test)\n",
    "    X_test = raise_column_to_power(X_test, degree, 1)\n",
    "    predictions = X_test @ theta\n",
    "    return predictions"
   ]
  },
  {
   "cell_type": "markdown",
   "metadata": {},
   "source": [
    "##### Root Mean Squared Error"
   ]
  },
  {
   "cell_type": "code",
   "execution_count": 169,
   "metadata": {},
   "outputs": [],
   "source": [
    "# Get the root mean squared error\n",
    "def get_rmse(Y_test, predictions):\n",
    "    m = len(Y_test)\n",
    "    rmse = np.sqrt(np.sum((predictions - Y_test)**2)/m)\n",
    "    return rmse"
   ]
  },
  {
   "cell_type": "markdown",
   "metadata": {},
   "source": [
    "##### Fit and plot the data"
   ]
  },
  {
   "cell_type": "code",
   "execution_count": 185,
   "metadata": {},
   "outputs": [],
   "source": [
    "# Function to fit and plot the model\n",
    "def fit_and_plot_model(raw_data, epochs, alpha, degree):\n",
    "    # Preparing the data for training\n",
    "    X, Y, X_train, Y_train, X_test, Y_test = create_training_and_testing_data(raw_data)\n",
    "    # Training the model on the data\n",
    "    theta = polynomial_regression(X_train, Y_train, epochs, alpha, degree)\n",
    "    # Getting predictions on the data\n",
    "    predictions = get_predictions(X_test, theta, degree)\n",
    "    # Getting the Root Mean Squared error\n",
    "    rmse = get_rmse(Y_test, predictions)\n",
    "    # Plotting the graph of the model\n",
    "    temp = X\n",
    "    plt.plot(X , Y, 'ro')\n",
    "    X.reshape(X.shape[0], 1)\n",
    "    X = np.c_[np.ones(len(X)), X]\n",
    "    plt.plot(temp , get_predictions(X, theta, degree).reshape(X.shape[0]), 'b')\n",
    "    plt.plot()\n",
    "    return rmse"
   ]
  },
  {
   "cell_type": "markdown",
   "metadata": {},
   "source": [
    "### Polynomial Regression"
   ]
  },
  {
   "cell_type": "markdown",
   "metadata": {},
   "source": [
    "Now let us try fitting the model for different degrees of the level column\n",
    "We will try to fit the model for degree 2, 3, 4, 5"
   ]
  },
  {
   "cell_type": "code",
   "execution_count": 186,
   "metadata": {},
   "outputs": [
    {
     "name": "stdout",
     "output_type": "stream",
     "text": [
      "RMSE at degree  2  is  126481.37814011595\n",
      "RMSE at degree  3  is  161463.25228077252\n",
      "RMSE at degree  4  is  72072.12139876821\n",
      "RMSE at degree  5  is  101942.0086824339\n",
      "RMSE at degree  6  is  50285.66409962275\n"
     ]
    },
    {
     "data": {
      "image/png": "[encoded data removed]",
      "text/plain": [
       "<Figure size 432x288 with 1 Axes>"
      ]
     },
     "metadata": {
      "needs_background": "light"
     },
     "output_type": "display_data"
    }
   ],
   "source": [
    "# Now let us try fitting the model for different degrees of the level column\n",
    "# We will try to fit the model for degree 2,3,4,5,6\n",
    "\n",
    "rmse_list = []\n",
    "for i in range(2,7):\n",
    "    rmse = fit_and_plot_model(raw_data, 500, 0.05, i)\n",
    "    rmse_list.append(rmse)\n",
    "    print(\"RMSE at degree \", i, \" is \", rmse);\n"
   ]
  },
  {
   "cell_type": "markdown",
   "metadata": {},
   "source": [
    "We can see how the root mean squared error is changing with change in the degree of polynomial"
   ]
  }
 ],
 "metadata": {
  "interpreter": {
   "hash": "916dbcbb3f70747c44a77c7bcd40155683ae19c65e1c03b4aa3499c5328201f1"
  },
  "kernelspec": {
   "display_name": "Python 3.8.10 64-bit",
   "language": "python",
   "name": "python3"
  },
  "language_info": {
   "codemirror_mode": {
    "name": "ipython",
    "version": 3
   },
   "file_extension": ".py",
   "mimetype": "text/x-python",
   "name": "python",
   "nbconvert_exporter": "python",
   "pygments_lexer": "ipython3",
   "version": "3.8.10"
  },
  "orig_nbformat": 4
 },
 "nbformat": 4,
 "nbformat_minor": 2
}
