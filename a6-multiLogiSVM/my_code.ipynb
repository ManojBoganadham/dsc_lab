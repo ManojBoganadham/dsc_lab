{
 "cells": [
  {
   "cell_type": "markdown",
   "metadata": {},
   "source": [
    "## Data Science Assignment 6\n",
    "##### Name: Venkata Sai Manoj Boganadham\n",
    "##### Roll no: 197121\n",
    "##### Section: A"
   ]
  },
  {
   "cell_type": "markdown",
   "metadata": {},
   "source": [
    "### 1. Multi-class Logistic Regression from scratch\n",
    "\n",
    "Here we are going to perform Logistic Regression on the Iris dataset from Kaggle.\n",
    "\n",
    "Dataset link: https://www.kaggle.com/uciml/iris\n",
    "\n",
    "First let us import the required modules"
   ]
  },
  {
   "cell_type": "code",
   "execution_count": 2,
   "metadata": {},
   "outputs": [
    {
     "name": "stdout",
     "output_type": "stream",
     "text": [
      "(150, 6)\n"
     ]
    },
    {
     "data": {
      "text/html": [
       "<div>\n",
       "<style scoped>\n",
       "    .dataframe tbody tr th:only-of-type {\n",
       "        vertical-align: middle;\n",
       "    }\n",
       "\n",
       "    .dataframe tbody tr th {\n",
       "        vertical-align: top;\n",
       "    }\n",
       "\n",
       "    .dataframe thead th {\n",
       "        text-align: right;\n",
       "    }\n",
       "</style>\n",
       "<table border=\"1\" class=\"dataframe\">\n",
       "  <thead>\n",
       "    <tr style=\"text-align: right;\">\n",
       "      <th></th>\n",
       "      <th>Id</th>\n",
       "      <th>SepalLengthCm</th>\n",
       "      <th>SepalWidthCm</th>\n",
       "      <th>PetalLengthCm</th>\n",
       "      <th>PetalWidthCm</th>\n",
       "      <th>Species</th>\n",
       "    </tr>\n",
       "  </thead>\n",
       "  <tbody>\n",
       "    <tr>\n",
       "      <th>0</th>\n",
       "      <td>1</td>\n",
       "      <td>5.1</td>\n",
       "      <td>3.5</td>\n",
       "      <td>1.4</td>\n",
       "      <td>0.2</td>\n",
       "      <td>Iris-setosa</td>\n",
       "    </tr>\n",
       "    <tr>\n",
       "      <th>1</th>\n",
       "      <td>2</td>\n",
       "      <td>4.9</td>\n",
       "      <td>3.0</td>\n",
       "      <td>1.4</td>\n",
       "      <td>0.2</td>\n",
       "      <td>Iris-setosa</td>\n",
       "    </tr>\n",
       "    <tr>\n",
       "      <th>2</th>\n",
       "      <td>3</td>\n",
       "      <td>4.7</td>\n",
       "      <td>3.2</td>\n",
       "      <td>1.3</td>\n",
       "      <td>0.2</td>\n",
       "      <td>Iris-setosa</td>\n",
       "    </tr>\n",
       "    <tr>\n",
       "      <th>3</th>\n",
       "      <td>4</td>\n",
       "      <td>4.6</td>\n",
       "      <td>3.1</td>\n",
       "      <td>1.5</td>\n",
       "      <td>0.2</td>\n",
       "      <td>Iris-setosa</td>\n",
       "    </tr>\n",
       "    <tr>\n",
       "      <th>4</th>\n",
       "      <td>5</td>\n",
       "      <td>5.0</td>\n",
       "      <td>3.6</td>\n",
       "      <td>1.4</td>\n",
       "      <td>0.2</td>\n",
       "      <td>Iris-setosa</td>\n",
       "    </tr>\n",
       "  </tbody>\n",
       "</table>\n",
       "</div>"
      ],
      "text/plain": [
       "   Id  SepalLengthCm  SepalWidthCm  PetalLengthCm  PetalWidthCm      Species\n",
       "0   1            5.1           3.5            1.4           0.2  Iris-setosa\n",
       "1   2            4.9           3.0            1.4           0.2  Iris-setosa\n",
       "2   3            4.7           3.2            1.3           0.2  Iris-setosa\n",
       "3   4            4.6           3.1            1.5           0.2  Iris-setosa\n",
       "4   5            5.0           3.6            1.4           0.2  Iris-setosa"
      ]
     },
     "execution_count": 2,
     "metadata": {},
     "output_type": "execute_result"
    }
   ],
   "source": [
    "# Importing required libraries\n",
    "import matplotlib.pyplot as plt\n",
    "import numpy as np\n",
    "import pandas as pd\n",
    "\n",
    "# Importing the dataset\n",
    "raw_data = pd.read_csv('Iris.csv')\n",
    "print(raw_data.shape)\n",
    "raw_data.head()"
   ]
  },
  {
   "cell_type": "markdown",
   "metadata": {},
   "source": [
    "#### First, let us replace the 'Species' labels with numbers"
   ]
  },
  {
   "cell_type": "code",
   "execution_count": 3,
   "metadata": {},
   "outputs": [
    {
     "name": "stdout",
     "output_type": "stream",
     "text": [
      "The unique labels in the species column are:\n",
      "['Iris-setosa' 'Iris-versicolor' 'Iris-virginica']\n"
     ]
    },
    {
     "data": {
      "text/html": [
       "<div>\n",
       "<style scoped>\n",
       "    .dataframe tbody tr th:only-of-type {\n",
       "        vertical-align: middle;\n",
       "    }\n",
       "\n",
       "    .dataframe tbody tr th {\n",
       "        vertical-align: top;\n",
       "    }\n",
       "\n",
       "    .dataframe thead th {\n",
       "        text-align: right;\n",
       "    }\n",
       "</style>\n",
       "<table border=\"1\" class=\"dataframe\">\n",
       "  <thead>\n",
       "    <tr style=\"text-align: right;\">\n",
       "      <th></th>\n",
       "      <th>Id</th>\n",
       "      <th>SepalLengthCm</th>\n",
       "      <th>SepalWidthCm</th>\n",
       "      <th>PetalLengthCm</th>\n",
       "      <th>PetalWidthCm</th>\n",
       "      <th>Species</th>\n",
       "    </tr>\n",
       "  </thead>\n",
       "  <tbody>\n",
       "    <tr>\n",
       "      <th>0</th>\n",
       "      <td>1</td>\n",
       "      <td>5.1</td>\n",
       "      <td>3.5</td>\n",
       "      <td>1.4</td>\n",
       "      <td>0.2</td>\n",
       "      <td>1</td>\n",
       "    </tr>\n",
       "    <tr>\n",
       "      <th>1</th>\n",
       "      <td>2</td>\n",
       "      <td>4.9</td>\n",
       "      <td>3.0</td>\n",
       "      <td>1.4</td>\n",
       "      <td>0.2</td>\n",
       "      <td>1</td>\n",
       "    </tr>\n",
       "    <tr>\n",
       "      <th>2</th>\n",
       "      <td>3</td>\n",
       "      <td>4.7</td>\n",
       "      <td>3.2</td>\n",
       "      <td>1.3</td>\n",
       "      <td>0.2</td>\n",
       "      <td>1</td>\n",
       "    </tr>\n",
       "    <tr>\n",
       "      <th>3</th>\n",
       "      <td>4</td>\n",
       "      <td>4.6</td>\n",
       "      <td>3.1</td>\n",
       "      <td>1.5</td>\n",
       "      <td>0.2</td>\n",
       "      <td>1</td>\n",
       "    </tr>\n",
       "    <tr>\n",
       "      <th>4</th>\n",
       "      <td>5</td>\n",
       "      <td>5.0</td>\n",
       "      <td>3.6</td>\n",
       "      <td>1.4</td>\n",
       "      <td>0.2</td>\n",
       "      <td>1</td>\n",
       "    </tr>\n",
       "  </tbody>\n",
       "</table>\n",
       "</div>"
      ],
      "text/plain": [
       "   Id  SepalLengthCm  SepalWidthCm  PetalLengthCm  PetalWidthCm Species\n",
       "0   1            5.1           3.5            1.4           0.2       1\n",
       "1   2            4.9           3.0            1.4           0.2       1\n",
       "2   3            4.7           3.2            1.3           0.2       1\n",
       "3   4            4.6           3.1            1.5           0.2       1\n",
       "4   5            5.0           3.6            1.4           0.2       1"
      ]
     },
     "execution_count": 3,
     "metadata": {},
     "output_type": "execute_result"
    }
   ],
   "source": [
    "# Printing the unique labels in species\n",
    "print(\"The unique labels in the species column are:\")\n",
    "print(raw_data['Species'].unique())\n",
    "\n",
    "# Replace labels with numbers\n",
    "raw_data['Species']=np.where(raw_data['Species'] =='Iris-setosa', 1, raw_data['Species'])\n",
    "raw_data['Species']=np.where(raw_data['Species'] =='Iris-versicolor', 2, raw_data['Species'])\n",
    "raw_data['Species']=np.where(raw_data['Species'] =='Iris-virginica', 3, raw_data['Species'])\n",
    "\n",
    "# Storing these labels in a separate dictionary\n",
    "label_dict = {1:'Iris-setosa', 2:'Iris-versicolor', 3:'Iris-virginica'}\n",
    "\n",
    "raw_data.head()\n"
   ]
  },
  {
   "cell_type": "markdown",
   "metadata": {},
   "source": [
    "### Normalising the data"
   ]
  },
  {
   "cell_type": "code",
   "execution_count": 4,
   "metadata": {},
   "outputs": [
    {
     "data": {
      "text/html": [
       "<div>\n",
       "<style scoped>\n",
       "    .dataframe tbody tr th:only-of-type {\n",
       "        vertical-align: middle;\n",
       "    }\n",
       "\n",
       "    .dataframe tbody tr th {\n",
       "        vertical-align: top;\n",
       "    }\n",
       "\n",
       "    .dataframe thead th {\n",
       "        text-align: right;\n",
       "    }\n",
       "</style>\n",
       "<table border=\"1\" class=\"dataframe\">\n",
       "  <thead>\n",
       "    <tr style=\"text-align: right;\">\n",
       "      <th></th>\n",
       "      <th>Id</th>\n",
       "      <th>SepalLengthCm</th>\n",
       "      <th>SepalWidthCm</th>\n",
       "      <th>PetalLengthCm</th>\n",
       "      <th>PetalWidthCm</th>\n",
       "      <th>Species</th>\n",
       "    </tr>\n",
       "  </thead>\n",
       "  <tbody>\n",
       "    <tr>\n",
       "      <th>0</th>\n",
       "      <td>1</td>\n",
       "      <td>-0.897674</td>\n",
       "      <td>1.028611</td>\n",
       "      <td>-1.336794</td>\n",
       "      <td>-1.308593</td>\n",
       "      <td>1</td>\n",
       "    </tr>\n",
       "    <tr>\n",
       "      <th>1</th>\n",
       "      <td>2</td>\n",
       "      <td>-1.139200</td>\n",
       "      <td>-0.124540</td>\n",
       "      <td>-1.336794</td>\n",
       "      <td>-1.308593</td>\n",
       "      <td>1</td>\n",
       "    </tr>\n",
       "    <tr>\n",
       "      <th>2</th>\n",
       "      <td>3</td>\n",
       "      <td>-1.380727</td>\n",
       "      <td>0.336720</td>\n",
       "      <td>-1.393470</td>\n",
       "      <td>-1.308593</td>\n",
       "      <td>1</td>\n",
       "    </tr>\n",
       "    <tr>\n",
       "      <th>3</th>\n",
       "      <td>4</td>\n",
       "      <td>-1.501490</td>\n",
       "      <td>0.106090</td>\n",
       "      <td>-1.280118</td>\n",
       "      <td>-1.308593</td>\n",
       "      <td>1</td>\n",
       "    </tr>\n",
       "    <tr>\n",
       "      <th>4</th>\n",
       "      <td>5</td>\n",
       "      <td>-1.018437</td>\n",
       "      <td>1.259242</td>\n",
       "      <td>-1.336794</td>\n",
       "      <td>-1.308593</td>\n",
       "      <td>1</td>\n",
       "    </tr>\n",
       "  </tbody>\n",
       "</table>\n",
       "</div>"
      ],
      "text/plain": [
       "   Id  SepalLengthCm  SepalWidthCm  PetalLengthCm  PetalWidthCm Species\n",
       "0   1      -0.897674      1.028611      -1.336794     -1.308593       1\n",
       "1   2      -1.139200     -0.124540      -1.336794     -1.308593       1\n",
       "2   3      -1.380727      0.336720      -1.393470     -1.308593       1\n",
       "3   4      -1.501490      0.106090      -1.280118     -1.308593       1\n",
       "4   5      -1.018437      1.259242      -1.336794     -1.308593       1"
      ]
     },
     "execution_count": 4,
     "metadata": {},
     "output_type": "execute_result"
    }
   ],
   "source": [
    "# Normalising the data columns except species\n",
    "raw_data['SepalLengthCm'] = (raw_data['SepalLengthCm'] - raw_data['SepalLengthCm'].mean())/raw_data['SepalLengthCm'].std()\n",
    "raw_data['SepalWidthCm'] = (raw_data['SepalWidthCm'] - raw_data['SepalWidthCm'].mean())/raw_data['SepalWidthCm'].std()\n",
    "raw_data['PetalLengthCm'] = (raw_data['PetalLengthCm'] - raw_data['PetalLengthCm'].mean())/raw_data['PetalLengthCm'].std()\n",
    "raw_data['PetalWidthCm'] = (raw_data['PetalWidthCm'] - raw_data['PetalWidthCm'].mean())/raw_data['PetalWidthCm'].std()\n",
    "\n",
    "raw_data.head()"
   ]
  },
  {
   "cell_type": "markdown",
   "metadata": {},
   "source": [
    "#### Splitting the data into training and testing datasets"
   ]
  },
  {
   "cell_type": "code",
   "execution_count": 5,
   "metadata": {},
   "outputs": [
    {
     "name": "stdout",
     "output_type": "stream",
     "text": [
      "The training dataset has 120 rows and 6 columns\n",
      "The testing dataset has 30 rows and 6 columns\n"
     ]
    }
   ],
   "source": [
    "# Splitting the data into training and testing data\n",
    "train_data = raw_data.sample(frac=0.8, random_state=25)\n",
    "test_data = raw_data.drop(train_data.index)\n",
    "\n",
    "# Printing the training and testing datasets shapes\n",
    "print(\"The training dataset has {} rows and {} columns\".format(train_data.shape[0], train_data.shape[1]))\n",
    "print(\"The testing dataset has {} rows and {} columns\".format(test_data.shape[0], test_data.shape[1]))"
   ]
  },
  {
   "cell_type": "markdown",
   "metadata": {},
   "source": [
    "#### Dividing the dependent and independent columns"
   ]
  },
  {
   "cell_type": "code",
   "execution_count": 6,
   "metadata": {},
   "outputs": [
    {
     "name": "stdout",
     "output_type": "stream",
     "text": [
      "(120, 5) (30, 5) (120,) (30,)\n"
     ]
    }
   ],
   "source": [
    "# Defining the training and testing data\n",
    "X_train = train_data[train_data.columns[:-1]]\n",
    "Y_train = train_data[train_data.columns[-1]]\n",
    "X_test = test_data[test_data.columns[:-1]]\n",
    "Y_test = test_data[test_data.columns[-1]]\n",
    "\n",
    "print(X_train.shape, X_test.shape, Y_train.shape, Y_test.shape)"
   ]
  },
  {
   "cell_type": "markdown",
   "metadata": {},
   "source": [
    "#### Generating the numpy arrays out of data"
   ]
  },
  {
   "cell_type": "code",
   "execution_count": 7,
   "metadata": {},
   "outputs": [
    {
     "name": "stdout",
     "output_type": "stream",
     "text": [
      "Shapes of the matrices after splitting from the raw data\n",
      "(120, 5)\n",
      "(120, 1)\n",
      "(30, 5)\n",
      "(30, 1)\n",
      "Shapes of the matrices after concatenating ones\n",
      "(120, 6)\n",
      "(120, 1)\n",
      "(30, 6)\n",
      "(30, 1)\n"
     ]
    }
   ],
   "source": [
    "# Generating the numpy arrays\n",
    "X_train = X_train.values\n",
    "Y_train = Y_train.values\n",
    "X_test = X_test.values\n",
    "Y_test = Y_test.values\n",
    "\n",
    "# Reshaping train data into 2d matrices\n",
    "Y_train = Y_train.reshape(len(Y_train), 1)\n",
    "Y_test = Y_test.reshape(len(Y_test), 1)\n",
    "\n",
    "print(\"Shapes of the matrices after splitting from the raw data\")\n",
    "print(X_train.shape)\n",
    "print(Y_train.shape)\n",
    "print(X_test.shape)\n",
    "print(Y_test.shape)\n",
    "\n",
    "# Concatenating the training data with a column of ones\n",
    "X_train = np.concatenate((np.ones(shape = Y_train.shape, dtype = np.float64), X_train), axis = 1)\n",
    "X_test = np.concatenate((np.ones(shape = Y_test.shape, dtype = np.float64), X_test), axis = 1)\n",
    "\n",
    "print(\"Shapes of the matrices after concatenating ones\")\n",
    "print(X_train.shape)\n",
    "print(Y_train.shape)\n",
    "print(X_test.shape)\n",
    "print(Y_test.shape)"
   ]
  },
  {
   "cell_type": "markdown",
   "metadata": {},
   "source": [
    "Since the data is split and scaled, now we can proceed to build our model\n",
    "### Building the logistic regression model"
   ]
  },
  {
   "cell_type": "markdown",
   "metadata": {},
   "source": [
    "#### Softmax Hypothesis"
   ]
  },
  {
   "cell_type": "code",
   "execution_count": 15,
   "metadata": {},
   "outputs": [],
   "source": [
    "# Hypothesis of logistic regression\n",
    "def softmax(X_train, theta_list):\n",
    "    n = theta_list.shape[1]\n",
    "    g = X_train @ theta_list\n",
    "    row_sum = np.sum(g, axis = 1, keepdims = True)\n",
    "    row_sum = np.reciprocal(row_sum)\n",
    "    g = np.multiply(g, row_sum)\n",
    "    return g"
   ]
  },
  {
   "cell_type": "markdown",
   "metadata": {},
   "source": [
    "#### Cost Function"
   ]
  },
  {
   "cell_type": "code",
   "execution_count": 25,
   "metadata": {},
   "outputs": [],
   "source": [
    "def J(X_train, Y_train, hyp):\n",
    "    g = np.log(hyp)\n",
    "    J = np.zeros(shape=(len(X_train), 1))\n",
    "    for i in range(0, len(Y_train)):\n",
    "        for j in range(0, len(g[0])):\n",
    "            J[i][0] += (Y_train[i][0]==j+1)*g[i][j]\n",
    "    print(J)\n",
    "    return J"
   ]
  },
  {
   "cell_type": "code",
   "execution_count": null,
   "metadata": {},
   "outputs": [],
   "source": [
    "# Function to calculate the gradient\n",
    "def gradient(X_train, Y_train, hyp):\n",
    "    # X_train is X_transpose here\n",
    "    n = len(hyp[0])\n",
    "    grad = np.zeros(X_train.shape[1], n)\n",
    "    hyp = np.transpose(hyp)\n",
    "    for i in range(0, n):\n",
    "        "
   ]
  },
  {
   "cell_type": "markdown",
   "metadata": {},
   "source": [
    "#### Function to perform Binary Logistic regression"
   ]
  },
  {
   "cell_type": "code",
   "execution_count": 9,
   "metadata": {},
   "outputs": [],
   "source": [
    "def binLogiRegression(X, Y, theta, alpha, epochs):\n",
    "    cost_list = [];\n",
    "    m = len(Y)\n",
    "    for i in range(epochs):\n",
    "        # Calculating the hypothesis\n",
    "        g = h(X, theta)\n",
    "        # Calculating the gradient\n",
    "        grad = (1/m) * (X.T @ (g - Y))\n",
    "        # Updating theta\n",
    "        theta = theta - alpha * grad\n",
    "        # Calculating the cost\n",
    "        cost = J(X, Y, theta)\n",
    "        cost_list.append(cost[0][0])\n",
    "        # print(\"Iteration: {} => Cost: {}\".format(i, cost))\n",
    "    \n",
    "    # Plotting cost vs epoch\n",
    "    plt.plot(list(range(0, epochs)), cost_list)\n",
    "    return theta"
   ]
  },
  {
   "cell_type": "markdown",
   "metadata": {},
   "source": [
    "##### For multi-class logistic regression, we take combination of several one-vs-rest binary regression models"
   ]
  },
  {
   "cell_type": "code",
   "execution_count": 29,
   "metadata": {},
   "outputs": [],
   "source": [
    "# Creating list of theta values\n",
    "theta_list = []\n",
    "\n",
    "# Intialising vector forms\n",
    "X, Y = X_train, Y_train\n",
    "X_t = np.transpose(X)\n",
    "\n",
    "# Initialising the hyperparameters\n",
    "alpha = 0.0005\n",
    "epochs = 10000\n",
    "\n",
    "# Initialise theta for softmax regression\n",
    "theta_list = np.ones(shape = (X.shape[1], label_dict.__len__()))\n",
    "# print(theta_list.shape)\n",
    "\n",
    "# Softmax\n",
    "# softmax(X_train, theta_list)\n",
    "\n",
    "# Cost\n",
    "# print(J(X_train, Y_train, theta_list))\n",
    "\n",
    "# Start softmax regression\n",
    "# cost_list = [];\n",
    "# m = len(Y)\n",
    "# for i in range(epochs):\n",
    "#     # Calculating the hypothesis\n",
    "#     g = softmax(X, theta_list)\n",
    "#     # Calculating the gradient\n",
    "#     grad = (1/m) * (X.T @ (g - Y))\n",
    "#     # Updating theta\n",
    "#     theta = theta - alpha * grad\n",
    "#     # Calculating the cost\n",
    "#     cost = J(X, Y, theta)\n",
    "#     cost_list.append(cost[0][0])\n",
    "#     print(\"Iteration: {} => Cost: {}\".format(i, cost))\n",
    "\n",
    "# Plotting cost vs epoch\n",
    "# plt.plot(list(range(0, epochs)), cost_list)\n",
    "\n",
    "# for i in label_dict:\n",
    "#     print(\"Training for {}\".format(label_dict[i]))\n",
    "    \n",
    "#     # Modify the Y_train to have the correct label\n",
    "#     Y_new = np.where(Y == i, 1, 0)\n",
    "#     Y_new = Y_new.reshape(len(Y_new), 1)\n",
    "    \n",
    "#     # Creating theta vector\n",
    "#     theta = np.zeros((X.shape[1], 1), dtype = np.float64)\n",
    "\n",
    "#     # Training the model\n",
    "#     theta = binLogiRegression(X, Y_new, theta, alpha, epochs)\n",
    "\n",
    "#     # Storing theta values\n",
    "#     theta_list.append(theta)\n",
    "\n",
    "#     print(\"-----------------------------------------------------------\")\n"
   ]
  },
  {
   "cell_type": "markdown",
   "metadata": {},
   "source": [
    "#### Predicting the labels of the test data"
   ]
  },
  {
   "cell_type": "code",
   "execution_count": 11,
   "metadata": {},
   "outputs": [],
   "source": [
    "def get_predictions(X_test, theta_list):\n",
    "    predictions = []\n",
    "    for i in theta_list:\n",
    "        prediction = h(X_test, i)\n",
    "        predictions.append(prediction);\n",
    "    \n",
    "    return predictions"
   ]
  },
  {
   "cell_type": "code",
   "execution_count": 12,
   "metadata": {},
   "outputs": [
    {
     "name": "stdout",
     "output_type": "stream",
     "text": [
      "(30, 1)\n"
     ]
    }
   ],
   "source": [
    "# Getting the predictions of three models on the test data\n",
    "predictions_list = get_predictions(X_test, theta_list)\n",
    "\n",
    "\n",
    "for i in range(len(predictions_list[0])):\n",
    "    a = predictions_list[0][i][0]\n",
    "    b = predictions_list[1][i][0]\n",
    "    c = predictions_list[2][i][0]\n",
    "    if a > b and a > c:\n",
    "        predictions_list[0][i][0] = 1\n",
    "    elif b > a and b > c:\n",
    "        predictions_list[0][i][0] = 2\n",
    "    else:\n",
    "        predictions_list[0][i][0] = 3\n",
    "\n",
    "predictions = predictions_list[0]\n",
    "\n",
    "print(predictions.shape)\n"
   ]
  },
  {
   "cell_type": "markdown",
   "metadata": {},
   "source": [
    "#### Evaluating the model accuracy"
   ]
  },
  {
   "cell_type": "code",
   "execution_count": 13,
   "metadata": {},
   "outputs": [
    {
     "name": "stdout",
     "output_type": "stream",
     "text": [
      "The accuracy of the model is 0.7666666666666667\n"
     ]
    }
   ],
   "source": [
    "# Calculating the accuracy\n",
    "accuracy = (predictions == Y_test).sum()/len(Y_test)\n",
    "print(\"The accuracy of the model is {}\".format(accuracy))"
   ]
  },
  {
   "cell_type": "code",
   "execution_count": 28,
   "metadata": {},
   "outputs": [
    {
     "name": "stdout",
     "output_type": "stream",
     "text": [
      "(array([1, 1]), array([0, 1]))\n"
     ]
    }
   ],
   "source": [
    "a = np.array([[1,2],[3,4]]) \n",
    "print(np.where(a>=3))"
   ]
  },
  {
   "cell_type": "code",
   "execution_count": null,
   "metadata": {},
   "outputs": [],
   "source": []
  }
 ],
 "metadata": {
  "interpreter": {
   "hash": "916dbcbb3f70747c44a77c7bcd40155683ae19c65e1c03b4aa3499c5328201f1"
  },
  "kernelspec": {
   "display_name": "Python 3.8.10 64-bit",
   "language": "python",
   "name": "python3"
  },
  "language_info": {
   "codemirror_mode": {
    "name": "ipython",
    "version": 3
   },
   "file_extension": ".py",
   "mimetype": "text/x-python",
   "name": "python",
   "nbconvert_exporter": "python",
   "pygments_lexer": "ipython3",
   "version": "3.8.10"
  },
  "orig_nbformat": 4
 },
 "nbformat": 4,
 "nbformat_minor": 2
}
